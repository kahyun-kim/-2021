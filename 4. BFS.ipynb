{
 "cells": [
  {
   "cell_type": "markdown",
   "metadata": {},
   "source": [
    "## BFS(Breadth-First Search)\n",
    "- 너비 우선 탐색 : 그래프에서 가까운 노드부터 우선적으로 탐색하는 알고리즘\n",
    "- 큐 자료구조 이용\n",
    "    1. 탐색 시작 노드를 큐에 삽입하고 방문처리\n",
    "    2. 큐에서 노드를 꺼낸 뒤 해당 노드의 인접 노드 중 방문하지 않은 노드를 모두 큐에 삽입 후 방문처리\n",
    "    3. 더 이상 2가 불가능 할 때 까지 반복"
   ]
  },
  {
   "cell_type": "code",
   "execution_count": 2,
   "metadata": {},
   "outputs": [
    {
     "name": "stdout",
     "output_type": "stream",
     "text": [
      "1 2 3 8 7 4 5 6 "
     ]
    }
   ],
   "source": [
    "from collections import deque\n",
    "\n",
    "def bfs(graph, start, visited):\n",
    "    queue = deque([start])\n",
    "    visited[start]=True\n",
    "    while queue:\n",
    "        v=queue.popleft()\n",
    "        print(v,end=' ')\n",
    "        for i in graph[v]:\n",
    "            if not visited[i]:\n",
    "                queue.append(i)\n",
    "                visited[i]=True\n",
    "    \n",
    "graph = [[],\n",
    "         [2,3,8],\n",
    "         [1,7],\n",
    "         [1,4,5],\n",
    "         [3,5],\n",
    "         [3,4],\n",
    "         [7],\n",
    "         [2,6,8],\n",
    "         [1,7]\n",
    "        ]\n",
    "visited=[False]*9\n",
    "bfs(graph, 1, visited)"
   ]
  },
  {
   "cell_type": "code",
   "execution_count": 4,
   "metadata": {},
   "outputs": [
    {
     "name": "stdout",
     "output_type": "stream",
     "text": [
      "5 6\n",
      "101010\n",
      "111111\n",
      "000001\n",
      "111111\n",
      "111111\n",
      "10\n"
     ]
    }
   ],
   "source": [
    "from collections import deque\n",
    "\n",
    "def bfs(y,x):\n",
    "    queue =deque()\n",
    "    queue.append((y,x))\n",
    "    \n",
    "    while queue:\n",
    "        y,x=queue.popleft()\n",
    "        for i in range(4):\n",
    "            nx=x+dx[i]\n",
    "            ny=y+dy[i]\n",
    "            if nx<0 or nx>=n or ny<0 or ny>=m:\n",
    "                continue\n",
    "            if graph[ny][nx]==0:\n",
    "                continue\n",
    "            if graph[ny][nx]==1:\n",
    "                graph[ny][nx] = graph[y][x] +1\n",
    "                queue.append((ny, nx))\n",
    "    return graph[m-1][n-1]\n",
    "\n",
    "m,n=map(int,input().split())\n",
    "graph=[]\n",
    "for i in range(m):\n",
    "    graph.append(list(map(int,input())))\n",
    "dy=[-1,1,0,0]\n",
    "dx=[0,0,-1,1]\n",
    "print(bfs(0,0))"
   ]
  }
 ],
 "metadata": {
  "kernelspec": {
   "display_name": "Python 3",
   "language": "python",
   "name": "python3"
  },
  "language_info": {
   "codemirror_mode": {
    "name": "ipython",
    "version": 3
   },
   "file_extension": ".py",
   "mimetype": "text/x-python",
   "name": "python",
   "nbconvert_exporter": "python",
   "pygments_lexer": "ipython3",
   "version": "3.8.5"
  }
 },
 "nbformat": 4,
 "nbformat_minor": 4
}
